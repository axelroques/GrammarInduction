{
 "cells": [
  {
   "cell_type": "code",
   "execution_count": 1,
   "id": "d2110f26",
   "metadata": {},
   "outputs": [],
   "source": [
    "%load_ext autoreload\n",
    "\n",
    "from grammar import GrammarInduction\n",
    "\n",
    "import pandas as pd"
   ]
  },
  {
   "cell_type": "markdown",
   "id": "3ffe3da5",
   "metadata": {},
   "source": [
    "# Load Data"
   ]
  },
  {
   "cell_type": "code",
   "execution_count": 2,
   "id": "621d5236",
   "metadata": {},
   "outputs": [
    {
     "data": {
      "text/html": [
       "<div>\n",
       "<style scoped>\n",
       "    .dataframe tbody tr th:only-of-type {\n",
       "        vertical-align: middle;\n",
       "    }\n",
       "\n",
       "    .dataframe tbody tr th {\n",
       "        vertical-align: top;\n",
       "    }\n",
       "\n",
       "    .dataframe thead th {\n",
       "        text-align: right;\n",
       "    }\n",
       "</style>\n",
       "<table border=\"1\" class=\"dataframe\">\n",
       "  <thead>\n",
       "    <tr style=\"text-align: right;\">\n",
       "      <th></th>\n",
       "      <th>t</th>\n",
       "      <th>ECG 1</th>\n",
       "      <th>ECG 2</th>\n",
       "      <th>ECG 3</th>\n",
       "      <th>ECG 4</th>\n",
       "    </tr>\n",
       "  </thead>\n",
       "  <tbody>\n",
       "    <tr>\n",
       "      <th>0</th>\n",
       "      <td>1970-01-01 00:00:00</td>\n",
       "      <td>1.000000</td>\n",
       "      <td>1.000000</td>\n",
       "      <td>1.000000</td>\n",
       "      <td>1.000000</td>\n",
       "    </tr>\n",
       "    <tr>\n",
       "      <th>1</th>\n",
       "      <td>1970-01-01 00:00:01</td>\n",
       "      <td>0.645470</td>\n",
       "      <td>-0.022726</td>\n",
       "      <td>-0.309075</td>\n",
       "      <td>0.044056</td>\n",
       "    </tr>\n",
       "    <tr>\n",
       "      <th>2</th>\n",
       "      <td>1970-01-01 00:00:02</td>\n",
       "      <td>0.595478</td>\n",
       "      <td>0.006897</td>\n",
       "      <td>-0.243793</td>\n",
       "      <td>-0.014618</td>\n",
       "    </tr>\n",
       "    <tr>\n",
       "      <th>3</th>\n",
       "      <td>1970-01-01 00:00:03</td>\n",
       "      <td>0.588336</td>\n",
       "      <td>0.029114</td>\n",
       "      <td>-0.178512</td>\n",
       "      <td>-0.087961</td>\n",
       "    </tr>\n",
       "    <tr>\n",
       "      <th>4</th>\n",
       "      <td>1970-01-01 00:00:04</td>\n",
       "      <td>0.574053</td>\n",
       "      <td>-0.022726</td>\n",
       "      <td>-0.113231</td>\n",
       "      <td>-0.043955</td>\n",
       "    </tr>\n",
       "  </tbody>\n",
       "</table>\n",
       "</div>"
      ],
      "text/plain": [
       "                     t     ECG 1     ECG 2     ECG 3     ECG 4\n",
       "0  1970-01-01 00:00:00  1.000000  1.000000  1.000000  1.000000\n",
       "1  1970-01-01 00:00:01  0.645470 -0.022726 -0.309075  0.044056\n",
       "2  1970-01-01 00:00:02  0.595478  0.006897 -0.243793 -0.014618\n",
       "3  1970-01-01 00:00:03  0.588336  0.029114 -0.178512 -0.087961\n",
       "4  1970-01-01 00:00:04  0.574053 -0.022726 -0.113231 -0.043955"
      ]
     },
     "execution_count": 2,
     "metadata": {},
     "output_type": "execute_result"
    }
   ],
   "source": [
    "df = pd.read_csv('dataset/data.csv')\n",
    "df.head()"
   ]
  },
  {
   "cell_type": "markdown",
   "id": "9689eb4d",
   "metadata": {},
   "source": [
    "# Grammar Induction"
   ]
  },
  {
   "cell_type": "code",
   "execution_count": 3,
   "id": "c1b27776",
   "metadata": {},
   "outputs": [],
   "source": [
    "%autoreload\n",
    "\n",
    "gi = GrammarInduction(df, w=3, a=4, n=100, k=10,\n",
    "                      alphabet_type='letters')\n",
    "gi.process()"
   ]
  },
  {
   "cell_type": "markdown",
   "id": "3d7379f3",
   "metadata": {},
   "source": [
    "# Show Rules"
   ]
  },
  {
   "cell_type": "code",
   "execution_count": 4,
   "id": "3f5b0358",
   "metadata": {},
   "outputs": [
    {
     "data": {
      "text/html": [
       "<div>\n",
       "<style scoped>\n",
       "    .dataframe tbody tr th:only-of-type {\n",
       "        vertical-align: middle;\n",
       "    }\n",
       "\n",
       "    .dataframe tbody tr th {\n",
       "        vertical-align: top;\n",
       "    }\n",
       "\n",
       "    .dataframe thead th {\n",
       "        text-align: right;\n",
       "    }\n",
       "</style>\n",
       "<table border=\"1\" class=\"dataframe\">\n",
       "  <thead>\n",
       "    <tr style=\"text-align: right;\">\n",
       "      <th></th>\n",
       "      <th>Rule</th>\n",
       "      <th>Expanded Rule</th>\n",
       "      <th>Occurrence</th>\n",
       "    </tr>\n",
       "  </thead>\n",
       "  <tbody>\n",
       "    <tr>\n",
       "      <th>R11</th>\n",
       "      <td>10 7</td>\n",
       "      <td>cbb cad bad abd acd bdb bda cda cca</td>\n",
       "      <td>2</td>\n",
       "    </tr>\n",
       "    <tr>\n",
       "      <th>R10</th>\n",
       "      <td>cbb 4</td>\n",
       "      <td>cbb cad bad abd acd</td>\n",
       "      <td>2</td>\n",
       "    </tr>\n",
       "    <tr>\n",
       "      <th>R4</th>\n",
       "      <td>3 acd</td>\n",
       "      <td>cad bad abd acd</td>\n",
       "      <td>3</td>\n",
       "    </tr>\n",
       "    <tr>\n",
       "      <th>R7</th>\n",
       "      <td>6 cca</td>\n",
       "      <td>bdb bda cda cca</td>\n",
       "      <td>3</td>\n",
       "    </tr>\n",
       "    <tr>\n",
       "      <th>R9</th>\n",
       "      <td>8 dba</td>\n",
       "      <td>dba dca cca dba</td>\n",
       "      <td>2</td>\n",
       "    </tr>\n",
       "    <tr>\n",
       "      <th>R3</th>\n",
       "      <td>2 abd</td>\n",
       "      <td>cad bad abd</td>\n",
       "      <td>3</td>\n",
       "    </tr>\n",
       "    <tr>\n",
       "      <th>R6</th>\n",
       "      <td>5 cda</td>\n",
       "      <td>bdb bda cda</td>\n",
       "      <td>3</td>\n",
       "    </tr>\n",
       "    <tr>\n",
       "      <th>R8</th>\n",
       "      <td>1 cca</td>\n",
       "      <td>dba dca cca</td>\n",
       "      <td>2</td>\n",
       "    </tr>\n",
       "    <tr>\n",
       "      <th>R1</th>\n",
       "      <td>dba dca</td>\n",
       "      <td>dba dca</td>\n",
       "      <td>6</td>\n",
       "    </tr>\n",
       "    <tr>\n",
       "      <th>R2</th>\n",
       "      <td>cad bad</td>\n",
       "      <td>cad bad</td>\n",
       "      <td>3</td>\n",
       "    </tr>\n",
       "    <tr>\n",
       "      <th>R5</th>\n",
       "      <td>bdb bda</td>\n",
       "      <td>bdb bda</td>\n",
       "      <td>3</td>\n",
       "    </tr>\n",
       "  </tbody>\n",
       "</table>\n",
       "</div>"
      ],
      "text/plain": [
       "        Rule                        Expanded Rule  Occurrence\n",
       "R11     10 7  cbb cad bad abd acd bdb bda cda cca           2\n",
       "R10    cbb 4                  cbb cad bad abd acd           2\n",
       "R4     3 acd                      cad bad abd acd           3\n",
       "R7     6 cca                      bdb bda cda cca           3\n",
       "R9     8 dba                      dba dca cca dba           2\n",
       "R3     2 abd                          cad bad abd           3\n",
       "R6     5 cda                          bdb bda cda           3\n",
       "R8     1 cca                          dba dca cca           2\n",
       "R1   dba dca                              dba dca           6\n",
       "R2   cad bad                              cad bad           3\n",
       "R5   bdb bda                              bdb bda           3"
      ]
     },
     "execution_count": 4,
     "metadata": {},
     "output_type": "execute_result"
    }
   ],
   "source": [
    "gi.show_rules(i_col=0)"
   ]
  },
  {
   "cell_type": "markdown",
   "id": "7a60e365",
   "metadata": {},
   "source": [
    "# Show Motifs"
   ]
  },
  {
   "cell_type": "code",
   "execution_count": 8,
   "id": "5a89c547",
   "metadata": {},
   "outputs": [
    {
     "name": "stdout",
     "output_type": "stream",
     "text": [
      "Column ECG 1\n",
      "Grammar rule = cad bad abd acd\n"
     ]
    },
    {
     "data": {
      "image/png": "[encoded data removed]",
      "text/plain": [
       "<Figure size 936x576 with 1 Axes>"
      ]
     },
     "metadata": {
      "needs_background": "light"
     },
     "output_type": "display_data"
    }
   ],
   "source": [
    "%autoreload\n",
    "\n",
    "gi.show_motifs(i_col=0, i_rule=2)"
   ]
  },
  {
   "cell_type": "code",
   "execution_count": null,
   "id": "ec641d76",
   "metadata": {},
   "outputs": [],
   "source": []
  }
 ],
 "metadata": {
  "kernelspec": {
   "display_name": "Python 3",
   "language": "python",
   "name": "python3"
  },
  "language_info": {
   "codemirror_mode": {
    "name": "ipython",
    "version": 3
   },
   "file_extension": ".py",
   "mimetype": "text/x-python",
   "name": "python",
   "nbconvert_exporter": "python",
   "pygments_lexer": "ipython3",
   "version": "3.8.3"
  }
 },
 "nbformat": 4,
 "nbformat_minor": 5
}
