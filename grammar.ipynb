{
 "cells": [
  {
   "cell_type": "code",
   "execution_count": 1,
   "id": "0544ab3d",
   "metadata": {},
   "outputs": [],
   "source": [
    "%load_ext autoreload\n",
    "\n",
    "from grammar import GrammarInduction\n",
    "\n",
    "import pandas as pd"
   ]
  },
  {
   "cell_type": "markdown",
   "id": "a2a63be2",
   "metadata": {},
   "source": [
    "# Load Data"
   ]
  },
  {
   "cell_type": "code",
   "execution_count": 2,
   "id": "74c40e2b",
   "metadata": {},
   "outputs": [
    {
     "data": {
      "text/html": [
       "<div>\n",
       "<style scoped>\n",
       "    .dataframe tbody tr th:only-of-type {\n",
       "        vertical-align: middle;\n",
       "    }\n",
       "\n",
       "    .dataframe tbody tr th {\n",
       "        vertical-align: top;\n",
       "    }\n",
       "\n",
       "    .dataframe thead th {\n",
       "        text-align: right;\n",
       "    }\n",
       "</style>\n",
       "<table border=\"1\" class=\"dataframe\">\n",
       "  <thead>\n",
       "    <tr style=\"text-align: right;\">\n",
       "      <th></th>\n",
       "      <th>t</th>\n",
       "      <th>ECG 1</th>\n",
       "      <th>ECG 2</th>\n",
       "      <th>ECG 3</th>\n",
       "      <th>ECG 4</th>\n",
       "    </tr>\n",
       "  </thead>\n",
       "  <tbody>\n",
       "    <tr>\n",
       "      <th>0</th>\n",
       "      <td>1970-01-01 00:00:00</td>\n",
       "      <td>1.000000</td>\n",
       "      <td>1.000000</td>\n",
       "      <td>1.000000</td>\n",
       "      <td>1.000000</td>\n",
       "    </tr>\n",
       "    <tr>\n",
       "      <th>1</th>\n",
       "      <td>1970-01-01 00:00:01</td>\n",
       "      <td>0.645470</td>\n",
       "      <td>-0.022726</td>\n",
       "      <td>-0.309075</td>\n",
       "      <td>0.044056</td>\n",
       "    </tr>\n",
       "    <tr>\n",
       "      <th>2</th>\n",
       "      <td>1970-01-01 00:00:02</td>\n",
       "      <td>0.595478</td>\n",
       "      <td>0.006897</td>\n",
       "      <td>-0.243793</td>\n",
       "      <td>-0.014618</td>\n",
       "    </tr>\n",
       "    <tr>\n",
       "      <th>3</th>\n",
       "      <td>1970-01-01 00:00:03</td>\n",
       "      <td>0.588336</td>\n",
       "      <td>0.029114</td>\n",
       "      <td>-0.178512</td>\n",
       "      <td>-0.087961</td>\n",
       "    </tr>\n",
       "    <tr>\n",
       "      <th>4</th>\n",
       "      <td>1970-01-01 00:00:04</td>\n",
       "      <td>0.574053</td>\n",
       "      <td>-0.022726</td>\n",
       "      <td>-0.113231</td>\n",
       "      <td>-0.043955</td>\n",
       "    </tr>\n",
       "  </tbody>\n",
       "</table>\n",
       "</div>"
      ],
      "text/plain": [
       "                     t     ECG 1     ECG 2     ECG 3     ECG 4\n",
       "0  1970-01-01 00:00:00  1.000000  1.000000  1.000000  1.000000\n",
       "1  1970-01-01 00:00:01  0.645470 -0.022726 -0.309075  0.044056\n",
       "2  1970-01-01 00:00:02  0.595478  0.006897 -0.243793 -0.014618\n",
       "3  1970-01-01 00:00:03  0.588336  0.029114 -0.178512 -0.087961\n",
       "4  1970-01-01 00:00:04  0.574053 -0.022726 -0.113231 -0.043955"
      ]
     },
     "execution_count": 2,
     "metadata": {},
     "output_type": "execute_result"
    }
   ],
   "source": [
    "df = pd.read_csv('dataset/data.csv')\n",
    "df.head()"
   ]
  },
  {
   "cell_type": "markdown",
   "id": "4dc6b4ff",
   "metadata": {},
   "source": [
    "# Grammar Induction"
   ]
  },
  {
   "cell_type": "code",
   "execution_count": 3,
   "id": "f8ce43e6",
   "metadata": {},
   "outputs": [],
   "source": [
    "%autoreload\n",
    "\n",
    "gi = GrammarInduction(df, w=3, a=4, n=100, k=10)\n",
    "gi.process()"
   ]
  },
  {
   "cell_type": "markdown",
   "id": "d5fa7adc",
   "metadata": {},
   "source": [
    "# Grammar Induction"
   ]
  },
  {
   "cell_type": "markdown",
   "id": "554eede9",
   "metadata": {},
   "source": [
    "## Show Rules"
   ]
  },
  {
   "cell_type": "code",
   "execution_count": 9,
   "id": "5777697e",
   "metadata": {},
   "outputs": [
    {
     "data": {
      "text/html": [
       "<div>\n",
       "<style scoped>\n",
       "    .dataframe tbody tr th:only-of-type {\n",
       "        vertical-align: middle;\n",
       "    }\n",
       "\n",
       "    .dataframe tbody tr th {\n",
       "        vertical-align: top;\n",
       "    }\n",
       "\n",
       "    .dataframe thead th {\n",
       "        text-align: right;\n",
       "    }\n",
       "</style>\n",
       "<table border=\"1\" class=\"dataframe\">\n",
       "  <thead>\n",
       "    <tr style=\"text-align: right;\">\n",
       "      <th></th>\n",
       "      <th>Rule</th>\n",
       "      <th>Expanded Rule</th>\n",
       "      <th>Occurrence</th>\n",
       "      <th>Phrase</th>\n",
       "    </tr>\n",
       "  </thead>\n",
       "  <tbody>\n",
       "    <tr>\n",
       "      <th></th>\n",
       "      <td></td>\n",
       "      <td></td>\n",
       "      <td>1</td>\n",
       "      <td>dba dca cca dba cbb cad bad abd acd bdb bda cd...</td>\n",
       "    </tr>\n",
       "    <tr>\n",
       "      <th>R1</th>\n",
       "      <td>dba dca</td>\n",
       "      <td>dba dca</td>\n",
       "      <td>6</td>\n",
       "      <td>1 cca dba cbb cad bad abd acd bdb bda cda cca ...</td>\n",
       "    </tr>\n",
       "    <tr>\n",
       "      <th>R2</th>\n",
       "      <td>cad bad</td>\n",
       "      <td>cad bad</td>\n",
       "      <td>3</td>\n",
       "      <td>1 cca dba cbb 2 abd acd bdb bda cda cca dca 1 ...</td>\n",
       "    </tr>\n",
       "    <tr>\n",
       "      <th>R3</th>\n",
       "      <td>2 abd</td>\n",
       "      <td>cad bad abd</td>\n",
       "      <td>3</td>\n",
       "      <td>1 cca dba cbb 3 acd bdb bda cda cca dca 1 1 db...</td>\n",
       "    </tr>\n",
       "    <tr>\n",
       "      <th>R4</th>\n",
       "      <td>3 acd</td>\n",
       "      <td>cad bad abd acd</td>\n",
       "      <td>3</td>\n",
       "      <td>1 cca dba cbb 4 bdb bda cda cca dca 1 1 dba cb...</td>\n",
       "    </tr>\n",
       "    <tr>\n",
       "      <th>R5</th>\n",
       "      <td>bdb bda</td>\n",
       "      <td>bdb bda</td>\n",
       "      <td>3</td>\n",
       "      <td>1 cca dba cbb 4 5 cda cca dca 1 1 dba cbc 4 ac...</td>\n",
       "    </tr>\n",
       "    <tr>\n",
       "      <th>R6</th>\n",
       "      <td>5 cda</td>\n",
       "      <td>bdb bda cda</td>\n",
       "      <td>3</td>\n",
       "      <td>1 cca dba cbb 4 6 cca dca 1 1 dba cbc 4 acc 6 ...</td>\n",
       "    </tr>\n",
       "    <tr>\n",
       "      <th>R7</th>\n",
       "      <td>6 cca</td>\n",
       "      <td>bdb bda cda cca</td>\n",
       "      <td>3</td>\n",
       "      <td>1 cca dba cbb 4 7 dca 1 1 dba cbc 4 acc 7 1 1 ...</td>\n",
       "    </tr>\n",
       "    <tr>\n",
       "      <th>R8</th>\n",
       "      <td>1 cca</td>\n",
       "      <td>dba dca cca</td>\n",
       "      <td>2</td>\n",
       "      <td>8 dba cbb 4 7 dca 1 1 dba cbc 4 acc 7 1 8 dba ...</td>\n",
       "    </tr>\n",
       "    <tr>\n",
       "      <th>R9</th>\n",
       "      <td>8 dba</td>\n",
       "      <td>dba dca cca dba</td>\n",
       "      <td>2</td>\n",
       "      <td>9 cbb 4 7 dca 1 1 dba cbc 4 acc 7 1 9 dbb cbb ...</td>\n",
       "    </tr>\n",
       "    <tr>\n",
       "      <th>R10</th>\n",
       "      <td>cbb 4</td>\n",
       "      <td>cbb cad bad abd acd</td>\n",
       "      <td>2</td>\n",
       "      <td>9 10 7 dca 1 1 dba cbc 4 acc 7 1 9 dbb 10 7 1 ...</td>\n",
       "    </tr>\n",
       "    <tr>\n",
       "      <th>R11</th>\n",
       "      <td>10 7</td>\n",
       "      <td>cbb cad bad abd acd bdb bda cda cca</td>\n",
       "      <td>2</td>\n",
       "      <td>9 11 dca 1 1 dba cbc 4 acc 7 1 9 dbb 11 1 dbb ...</td>\n",
       "    </tr>\n",
       "  </tbody>\n",
       "</table>\n",
       "</div>"
      ],
      "text/plain": [
       "        Rule                        Expanded Rule  Occurrence  \\\n",
       "                                                            1   \n",
       "R1   dba dca                              dba dca           6   \n",
       "R2   cad bad                              cad bad           3   \n",
       "R3     2 abd                          cad bad abd           3   \n",
       "R4     3 acd                      cad bad abd acd           3   \n",
       "R5   bdb bda                              bdb bda           3   \n",
       "R6     5 cda                          bdb bda cda           3   \n",
       "R7     6 cca                      bdb bda cda cca           3   \n",
       "R8     1 cca                          dba dca cca           2   \n",
       "R9     8 dba                      dba dca cca dba           2   \n",
       "R10    cbb 4                  cbb cad bad abd acd           2   \n",
       "R11     10 7  cbb cad bad abd acd bdb bda cda cca           2   \n",
       "\n",
       "                                                Phrase  \n",
       "     dba dca cca dba cbb cad bad abd acd bdb bda cd...  \n",
       "R1   1 cca dba cbb cad bad abd acd bdb bda cda cca ...  \n",
       "R2   1 cca dba cbb 2 abd acd bdb bda cda cca dca 1 ...  \n",
       "R3   1 cca dba cbb 3 acd bdb bda cda cca dca 1 1 db...  \n",
       "R4   1 cca dba cbb 4 bdb bda cda cca dca 1 1 dba cb...  \n",
       "R5   1 cca dba cbb 4 5 cda cca dca 1 1 dba cbc 4 ac...  \n",
       "R6   1 cca dba cbb 4 6 cca dca 1 1 dba cbc 4 acc 6 ...  \n",
       "R7   1 cca dba cbb 4 7 dca 1 1 dba cbc 4 acc 7 1 1 ...  \n",
       "R8   8 dba cbb 4 7 dca 1 1 dba cbc 4 acc 7 1 8 dba ...  \n",
       "R9   9 cbb 4 7 dca 1 1 dba cbc 4 acc 7 1 9 dbb cbb ...  \n",
       "R10  9 10 7 dca 1 1 dba cbc 4 acc 7 1 9 dbb 10 7 1 ...  \n",
       "R11  9 11 dca 1 1 dba cbc 4 acc 7 1 9 dbb 11 1 dbb ...  "
      ]
     },
     "execution_count": 9,
     "metadata": {},
     "output_type": "execute_result"
    }
   ],
   "source": [
    "%autoreload\n",
    "\n",
    "gi.show_rules(i_col=0, ordered=False)"
   ]
  },
  {
   "cell_type": "markdown",
   "id": "315ab8da",
   "metadata": {},
   "source": [
    "## Show Sorted Rules"
   ]
  },
  {
   "cell_type": "code",
   "execution_count": 10,
   "id": "464ec135",
   "metadata": {},
   "outputs": [
    {
     "data": {
      "text/html": [
       "<div>\n",
       "<style scoped>\n",
       "    .dataframe tbody tr th:only-of-type {\n",
       "        vertical-align: middle;\n",
       "    }\n",
       "\n",
       "    .dataframe tbody tr th {\n",
       "        vertical-align: top;\n",
       "    }\n",
       "\n",
       "    .dataframe thead th {\n",
       "        text-align: right;\n",
       "    }\n",
       "</style>\n",
       "<table border=\"1\" class=\"dataframe\">\n",
       "  <thead>\n",
       "    <tr style=\"text-align: right;\">\n",
       "      <th></th>\n",
       "      <th>Rule</th>\n",
       "      <th>Expanded Rule</th>\n",
       "      <th>Occurrence</th>\n",
       "    </tr>\n",
       "  </thead>\n",
       "  <tbody>\n",
       "    <tr>\n",
       "      <th>R11</th>\n",
       "      <td>10 7</td>\n",
       "      <td>cbb cad bad abd acd bdb bda cda cca</td>\n",
       "      <td>2</td>\n",
       "    </tr>\n",
       "    <tr>\n",
       "      <th>R10</th>\n",
       "      <td>cbb 4</td>\n",
       "      <td>cbb cad bad abd acd</td>\n",
       "      <td>2</td>\n",
       "    </tr>\n",
       "    <tr>\n",
       "      <th>R4</th>\n",
       "      <td>3 acd</td>\n",
       "      <td>cad bad abd acd</td>\n",
       "      <td>3</td>\n",
       "    </tr>\n",
       "    <tr>\n",
       "      <th>R7</th>\n",
       "      <td>6 cca</td>\n",
       "      <td>bdb bda cda cca</td>\n",
       "      <td>3</td>\n",
       "    </tr>\n",
       "    <tr>\n",
       "      <th>R9</th>\n",
       "      <td>8 dba</td>\n",
       "      <td>dba dca cca dba</td>\n",
       "      <td>2</td>\n",
       "    </tr>\n",
       "    <tr>\n",
       "      <th>R3</th>\n",
       "      <td>2 abd</td>\n",
       "      <td>cad bad abd</td>\n",
       "      <td>3</td>\n",
       "    </tr>\n",
       "    <tr>\n",
       "      <th>R6</th>\n",
       "      <td>5 cda</td>\n",
       "      <td>bdb bda cda</td>\n",
       "      <td>3</td>\n",
       "    </tr>\n",
       "    <tr>\n",
       "      <th>R8</th>\n",
       "      <td>1 cca</td>\n",
       "      <td>dba dca cca</td>\n",
       "      <td>2</td>\n",
       "    </tr>\n",
       "    <tr>\n",
       "      <th>R1</th>\n",
       "      <td>dba dca</td>\n",
       "      <td>dba dca</td>\n",
       "      <td>6</td>\n",
       "    </tr>\n",
       "    <tr>\n",
       "      <th>R2</th>\n",
       "      <td>cad bad</td>\n",
       "      <td>cad bad</td>\n",
       "      <td>3</td>\n",
       "    </tr>\n",
       "    <tr>\n",
       "      <th>R5</th>\n",
       "      <td>bdb bda</td>\n",
       "      <td>bdb bda</td>\n",
       "      <td>3</td>\n",
       "    </tr>\n",
       "  </tbody>\n",
       "</table>\n",
       "</div>"
      ],
      "text/plain": [
       "        Rule                        Expanded Rule  Occurrence\n",
       "R11     10 7  cbb cad bad abd acd bdb bda cda cca           2\n",
       "R10    cbb 4                  cbb cad bad abd acd           2\n",
       "R4     3 acd                      cad bad abd acd           3\n",
       "R7     6 cca                      bdb bda cda cca           3\n",
       "R9     8 dba                      dba dca cca dba           2\n",
       "R3     2 abd                          cad bad abd           3\n",
       "R6     5 cda                          bdb bda cda           3\n",
       "R8     1 cca                          dba dca cca           2\n",
       "R1   dba dca                              dba dca           6\n",
       "R2   cad bad                              cad bad           3\n",
       "R5   bdb bda                              bdb bda           3"
      ]
     },
     "execution_count": 10,
     "metadata": {},
     "output_type": "execute_result"
    }
   ],
   "source": [
    "gi.show_rules(i_col=0, ordered=True)"
   ]
  },
  {
   "cell_type": "markdown",
   "id": "ed5bafe6",
   "metadata": {},
   "source": [
    "# Show Motifs"
   ]
  },
  {
   "cell_type": "code",
   "execution_count": 11,
   "id": "3adc8a7f",
   "metadata": {},
   "outputs": [
    {
     "name": "stdout",
     "output_type": "stream",
     "text": [
      "Column ECG 1\n",
      "Grammar rule = cad bad abd acd\n"
     ]
    },
    {
     "data": {
      "image/png": "[encoded data removed]",
      "text/plain": [
       "<Figure size 936x576 with 1 Axes>"
      ]
     },
     "metadata": {
      "needs_background": "light"
     },
     "output_type": "display_data"
    }
   ],
   "source": [
    "%autoreload\n",
    "\n",
    "gi.show_motifs(i_col=0, i_rule=2)"
   ]
  },
  {
   "cell_type": "code",
   "execution_count": null,
   "id": "34fdb7a7",
   "metadata": {},
   "outputs": [],
   "source": []
  }
 ],
 "metadata": {
  "kernelspec": {
   "display_name": "Python 3",
   "language": "python",
   "name": "python3"
  },
  "language_info": {
   "codemirror_mode": {
    "name": "ipython",
    "version": 3
   },
   "file_extension": ".py",
   "mimetype": "text/x-python",
   "name": "python",
   "nbconvert_exporter": "python",
   "pygments_lexer": "ipython3",
   "version": "3.8.3"
  }
 },
 "nbformat": 4,
 "nbformat_minor": 5
}
